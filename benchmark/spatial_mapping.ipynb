{
 "cells": [
  {
   "cell_type": "code",
   "execution_count": 1,
   "metadata": {},
   "outputs": [],
   "source": [
    "import scanpy as sc\n",
    "import pandas as pd"
   ]
  },
  {
   "cell_type": "code",
   "execution_count": 2,
   "metadata": {},
   "outputs": [],
   "source": [
    "spacemake_dir_path = '../../spacemake/'"
   ]
  },
  {
   "cell_type": "markdown",
   "metadata": {},
   "source": [
    "## Open-ST"
   ]
  },
  {
   "cell_type": "markdown",
   "metadata": {},
   "source": [
    "### e13 mouse brain rep1"
   ]
  },
  {
   "cell_type": "code",
   "execution_count": 4,
   "metadata": {},
   "outputs": [
    {
     "name": "stdout",
     "output_type": "stream",
     "text": [
      "WARNING: Your filename has more than two extensions: ['.all', '.polyA_adapter_trimmed', '.spatial_beads', '.mesh_7_hexagon_fc_009_L3b_tile_2416', '.h5ad'].\n",
      "Only considering the two last: ['.mesh_7_hexagon_fc_009_L3b_tile_2416', '.h5ad'].\n",
      "WARNING: Your filename has more than two extensions: ['.all', '.polyA_adapter_trimmed', '.spatial_beads', '.mesh_7_hexagon_fc_009_L3b_tile_2416', '.h5ad'].\n",
      "Only considering the two last: ['.mesh_7_hexagon_fc_009_L3b_tile_2416', '.h5ad'].\n"
     ]
    },
    {
     "name": "stdout",
     "output_type": "stream",
     "text": [
      "WARNING: Your filename has more than two extensions: ['.all', '.polyA_adapter_trimmed', '.spatial_beads', '.mesh_7_hexagon_fc_009_L3b_tile_2417', '.h5ad'].\n",
      "Only considering the two last: ['.mesh_7_hexagon_fc_009_L3b_tile_2417', '.h5ad'].\n",
      "WARNING: Your filename has more than two extensions: ['.all', '.polyA_adapter_trimmed', '.spatial_beads', '.mesh_7_hexagon_fc_009_L3b_tile_2417', '.h5ad'].\n",
      "Only considering the two last: ['.mesh_7_hexagon_fc_009_L3b_tile_2417', '.h5ad'].\n",
      "WARNING: Your filename has more than two extensions: ['.all', '.polyA_adapter_trimmed', '.spatial_beads', '.mesh_7_hexagon_fc_009_L3b_tile_2418', '.h5ad'].\n",
      "Only considering the two last: ['.mesh_7_hexagon_fc_009_L3b_tile_2418', '.h5ad'].\n",
      "WARNING: Your filename has more than two extensions: ['.all', '.polyA_adapter_trimmed', '.spatial_beads', '.mesh_7_hexagon_fc_009_L3b_tile_2418', '.h5ad'].\n",
      "Only considering the two last: ['.mesh_7_hexagon_fc_009_L3b_tile_2418', '.h5ad'].\n",
      "WARNING: Your filename has more than two extensions: ['.all', '.polyA_adapter_trimmed', '.spatial_beads', '.mesh_7_hexagon_fc_009_L3b_tile_2419', '.h5ad'].\n",
      "Only considering the two last: ['.mesh_7_hexagon_fc_009_L3b_tile_2419', '.h5ad'].\n",
      "WARNING: Your filename has more than two extensions: ['.all', '.polyA_adapter_trimmed', '.spatial_beads', '.mesh_7_hexagon_fc_009_L3b_tile_2419', '.h5ad'].\n",
      "Only considering the two last: ['.mesh_7_hexagon_fc_009_L3b_tile_2419', '.h5ad'].\n",
      "WARNING: Your filename has more than two extensions: ['.all', '.polyA_adapter_trimmed', '.spatial_beads', '.mesh_7_hexagon_fc_009_L3b_tile_2516', '.h5ad'].\n",
      "Only considering the two last: ['.mesh_7_hexagon_fc_009_L3b_tile_2516', '.h5ad'].\n",
      "WARNING: Your filename has more than two extensions: ['.all', '.polyA_adapter_trimmed', '.spatial_beads', '.mesh_7_hexagon_fc_009_L3b_tile_2516', '.h5ad'].\n",
      "Only considering the two last: ['.mesh_7_hexagon_fc_009_L3b_tile_2516', '.h5ad'].\n",
      "WARNING: Your filename has more than two extensions: ['.all', '.polyA_adapter_trimmed', '.spatial_beads', '.mesh_7_hexagon_fc_009_L3b_tile_2517', '.h5ad'].\n",
      "Only considering the two last: ['.mesh_7_hexagon_fc_009_L3b_tile_2517', '.h5ad'].\n",
      "WARNING: Your filename has more than two extensions: ['.all', '.polyA_adapter_trimmed', '.spatial_beads', '.mesh_7_hexagon_fc_009_L3b_tile_2517', '.h5ad'].\n",
      "Only considering the two last: ['.mesh_7_hexagon_fc_009_L3b_tile_2517', '.h5ad'].\n",
      "WARNING: Your filename has more than two extensions: ['.all', '.polyA_adapter_trimmed', '.spatial_beads', '.mesh_7_hexagon_fc_009_L3b_tile_2518', '.h5ad'].\n",
      "Only considering the two last: ['.mesh_7_hexagon_fc_009_L3b_tile_2518', '.h5ad'].\n",
      "WARNING: Your filename has more than two extensions: ['.all', '.polyA_adapter_trimmed', '.spatial_beads', '.mesh_7_hexagon_fc_009_L3b_tile_2518', '.h5ad'].\n",
      "Only considering the two last: ['.mesh_7_hexagon_fc_009_L3b_tile_2518', '.h5ad'].\n",
      "WARNING: Your filename has more than two extensions: ['.all', '.polyA_adapter_trimmed', '.spatial_beads', '.mesh_7_hexagon_fc_009_L3b_tile_2519', '.h5ad'].\n",
      "Only considering the two last: ['.mesh_7_hexagon_fc_009_L3b_tile_2519', '.h5ad'].\n",
      "WARNING: Your filename has more than two extensions: ['.all', '.polyA_adapter_trimmed', '.spatial_beads', '.mesh_7_hexagon_fc_009_L3b_tile_2519', '.h5ad'].\n",
      "Only considering the two last: ['.mesh_7_hexagon_fc_009_L3b_tile_2519', '.h5ad'].\n",
      "WARNING: Your filename has more than two extensions: ['.all', '.polyA_adapter_trimmed', '.spatial_beads', '.mesh_7_hexagon_fc_009_L3b_tile_2616', '.h5ad'].\n",
      "Only considering the two last: ['.mesh_7_hexagon_fc_009_L3b_tile_2616', '.h5ad'].\n",
      "WARNING: Your filename has more than two extensions: ['.all', '.polyA_adapter_trimmed', '.spatial_beads', '.mesh_7_hexagon_fc_009_L3b_tile_2616', '.h5ad'].\n",
      "Only considering the two last: ['.mesh_7_hexagon_fc_009_L3b_tile_2616', '.h5ad'].\n",
      "WARNING: Your filename has more than two extensions: ['.all', '.polyA_adapter_trimmed', '.spatial_beads', '.mesh_7_hexagon_fc_009_L3b_tile_2617', '.h5ad'].\n",
      "Only considering the two last: ['.mesh_7_hexagon_fc_009_L3b_tile_2617', '.h5ad'].\n",
      "WARNING: Your filename has more than two extensions: ['.all', '.polyA_adapter_trimmed', '.spatial_beads', '.mesh_7_hexagon_fc_009_L3b_tile_2617', '.h5ad'].\n",
      "Only considering the two last: ['.mesh_7_hexagon_fc_009_L3b_tile_2617', '.h5ad'].\n",
      "WARNING: Your filename has more than two extensions: ['.all', '.polyA_adapter_trimmed', '.spatial_beads', '.mesh_7_hexagon_fc_009_L3b_tile_2618', '.h5ad'].\n",
      "Only considering the two last: ['.mesh_7_hexagon_fc_009_L3b_tile_2618', '.h5ad'].\n",
      "WARNING: Your filename has more than two extensions: ['.all', '.polyA_adapter_trimmed', '.spatial_beads', '.mesh_7_hexagon_fc_009_L3b_tile_2618', '.h5ad'].\n",
      "Only considering the two last: ['.mesh_7_hexagon_fc_009_L3b_tile_2618', '.h5ad'].\n",
      "WARNING: Your filename has more than two extensions: ['.all', '.polyA_adapter_trimmed', '.spatial_beads', '.mesh_7_hexagon_fc_009_L3b_tile_2619', '.h5ad'].\n",
      "Only considering the two last: ['.mesh_7_hexagon_fc_009_L3b_tile_2619', '.h5ad'].\n",
      "WARNING: Your filename has more than two extensions: ['.all', '.polyA_adapter_trimmed', '.spatial_beads', '.mesh_7_hexagon_fc_009_L3b_tile_2619', '.h5ad'].\n",
      "Only considering the two last: ['.mesh_7_hexagon_fc_009_L3b_tile_2619', '.h5ad'].\n",
      "185741641\n"
     ]
    }
   ],
   "source": [
    "n_reads_spatial_no_mm = 0\n",
    "puck_barcode_files_summary = pd.read_csv(f'{spacemake_dir_path}projects/open_st/processed_data/e13_mouse_rep1/illumina/complete_data/puck_barcode_files_summary.csv')\n",
    "for tile in puck_barcode_files_summary.puck_barcode_file_id:\n",
    "    tile_reads = sc.read(f'{spacemake_dir_path}projects/open_st/processed_data/e13_mouse_rep1/illumina/complete_data/dge/dge.all.polyA_adapter_trimmed.spatial_beads.mesh_7_hexagon_{tile}.h5ad').obs.n_reads.sum()\n",
    "    n_reads_spatial_no_mm += tile_reads\n",
    "    \n",
    "print(n_reads_spatial_no_mm)"
   ]
  },
  {
   "cell_type": "code",
   "execution_count": 5,
   "metadata": {},
   "outputs": [
    {
     "name": "stdout",
     "output_type": "stream",
     "text": [
      "\n",
      "\n",
      "\n",
      "\n",
      "312706982\n"
     ]
    }
   ],
   "source": [
    "# with intronic\n",
    "n_reads_non_spatial_no_mm = 0\n",
    "with open ('/data/rajewsky/home/lstreng/spacemake_benchmark_paper/projects/open_st/processed_data/e13_mouse_rep1/illumina/complete_data/dge/dge_no_mm_non_spatial_summary_with_intronic.txt', 'r') as f:\n",
    "    for line in f.readlines()[7:]:\n",
    "        if len(line.split()) < 2:\n",
    "            print(line)\n",
    "            continue\n",
    "        n_reads_non_spatial_no_mm += int(line.split()[1])\n",
    "\n",
    "print(n_reads_non_spatial_no_mm)"
   ]
  },
  {
   "cell_type": "code",
   "execution_count": 6,
   "metadata": {},
   "outputs": [
    {
     "name": "stdout",
     "output_type": "stream",
     "text": [
      "0.5939798331717454\n"
     ]
    }
   ],
   "source": [
    "print(n_reads_spatial_no_mm / n_reads_non_spatial_no_mm)"
   ]
  },
  {
   "cell_type": "markdown",
   "metadata": {},
   "source": [
    "### e13 mouse brain rep2"
   ]
  },
  {
   "cell_type": "code",
   "execution_count": 7,
   "metadata": {},
   "outputs": [
    {
     "name": "stdout",
     "output_type": "stream",
     "text": [
      "WARNING: Your filename has more than two extensions: ['.all', '.polyA_adapter_trimmed', '.spatial_beads', '.mesh_7_hexagon_fc_008_L1_tile_2148', '.h5ad'].\n",
      "Only considering the two last: ['.mesh_7_hexagon_fc_008_L1_tile_2148', '.h5ad'].\n",
      "WARNING: Your filename has more than two extensions: ['.all', '.polyA_adapter_trimmed', '.spatial_beads', '.mesh_7_hexagon_fc_008_L1_tile_2148', '.h5ad'].\n",
      "Only considering the two last: ['.mesh_7_hexagon_fc_008_L1_tile_2148', '.h5ad'].\n"
     ]
    },
    {
     "name": "stdout",
     "output_type": "stream",
     "text": [
      "WARNING: Your filename has more than two extensions: ['.all', '.polyA_adapter_trimmed', '.spatial_beads', '.mesh_7_hexagon_fc_008_L1_tile_2149', '.h5ad'].\n",
      "Only considering the two last: ['.mesh_7_hexagon_fc_008_L1_tile_2149', '.h5ad'].\n",
      "WARNING: Your filename has more than two extensions: ['.all', '.polyA_adapter_trimmed', '.spatial_beads', '.mesh_7_hexagon_fc_008_L1_tile_2149', '.h5ad'].\n",
      "Only considering the two last: ['.mesh_7_hexagon_fc_008_L1_tile_2149', '.h5ad'].\n",
      "WARNING: Your filename has more than two extensions: ['.all', '.polyA_adapter_trimmed', '.spatial_beads', '.mesh_7_hexagon_fc_008_L1_tile_2150', '.h5ad'].\n",
      "Only considering the two last: ['.mesh_7_hexagon_fc_008_L1_tile_2150', '.h5ad'].\n",
      "WARNING: Your filename has more than two extensions: ['.all', '.polyA_adapter_trimmed', '.spatial_beads', '.mesh_7_hexagon_fc_008_L1_tile_2150', '.h5ad'].\n",
      "Only considering the two last: ['.mesh_7_hexagon_fc_008_L1_tile_2150', '.h5ad'].\n",
      "WARNING: Your filename has more than two extensions: ['.all', '.polyA_adapter_trimmed', '.spatial_beads', '.mesh_7_hexagon_fc_008_L1_tile_2151', '.h5ad'].\n",
      "Only considering the two last: ['.mesh_7_hexagon_fc_008_L1_tile_2151', '.h5ad'].\n",
      "WARNING: Your filename has more than two extensions: ['.all', '.polyA_adapter_trimmed', '.spatial_beads', '.mesh_7_hexagon_fc_008_L1_tile_2151', '.h5ad'].\n",
      "Only considering the two last: ['.mesh_7_hexagon_fc_008_L1_tile_2151', '.h5ad'].\n",
      "WARNING: Your filename has more than two extensions: ['.all', '.polyA_adapter_trimmed', '.spatial_beads', '.mesh_7_hexagon_fc_008_L1_tile_2248', '.h5ad'].\n",
      "Only considering the two last: ['.mesh_7_hexagon_fc_008_L1_tile_2248', '.h5ad'].\n",
      "WARNING: Your filename has more than two extensions: ['.all', '.polyA_adapter_trimmed', '.spatial_beads', '.mesh_7_hexagon_fc_008_L1_tile_2248', '.h5ad'].\n",
      "Only considering the two last: ['.mesh_7_hexagon_fc_008_L1_tile_2248', '.h5ad'].\n",
      "WARNING: Your filename has more than two extensions: ['.all', '.polyA_adapter_trimmed', '.spatial_beads', '.mesh_7_hexagon_fc_008_L1_tile_2249', '.h5ad'].\n",
      "Only considering the two last: ['.mesh_7_hexagon_fc_008_L1_tile_2249', '.h5ad'].\n",
      "WARNING: Your filename has more than two extensions: ['.all', '.polyA_adapter_trimmed', '.spatial_beads', '.mesh_7_hexagon_fc_008_L1_tile_2249', '.h5ad'].\n",
      "Only considering the two last: ['.mesh_7_hexagon_fc_008_L1_tile_2249', '.h5ad'].\n",
      "WARNING: Your filename has more than two extensions: ['.all', '.polyA_adapter_trimmed', '.spatial_beads', '.mesh_7_hexagon_fc_008_L1_tile_2250', '.h5ad'].\n",
      "Only considering the two last: ['.mesh_7_hexagon_fc_008_L1_tile_2250', '.h5ad'].\n",
      "WARNING: Your filename has more than two extensions: ['.all', '.polyA_adapter_trimmed', '.spatial_beads', '.mesh_7_hexagon_fc_008_L1_tile_2250', '.h5ad'].\n",
      "Only considering the two last: ['.mesh_7_hexagon_fc_008_L1_tile_2250', '.h5ad'].\n",
      "WARNING: Your filename has more than two extensions: ['.all', '.polyA_adapter_trimmed', '.spatial_beads', '.mesh_7_hexagon_fc_008_L1_tile_2251', '.h5ad'].\n",
      "Only considering the two last: ['.mesh_7_hexagon_fc_008_L1_tile_2251', '.h5ad'].\n",
      "WARNING: Your filename has more than two extensions: ['.all', '.polyA_adapter_trimmed', '.spatial_beads', '.mesh_7_hexagon_fc_008_L1_tile_2251', '.h5ad'].\n",
      "Only considering the two last: ['.mesh_7_hexagon_fc_008_L1_tile_2251', '.h5ad'].\n",
      "224206191\n"
     ]
    }
   ],
   "source": [
    "n_reads_spatial_no_mm = 0\n",
    "puck_barcode_files_summary = pd.read_csv(f'{spacemake_dir_path}projects/open_st/processed_data/e13_mouse_rep2/illumina/complete_data/puck_barcode_files_summary.csv')\n",
    "for tile in puck_barcode_files_summary.puck_barcode_file_id:\n",
    "    tile_reads = sc.read(f'{spacemake_dir_path}/projects/open_st/processed_data/e13_mouse_rep2/illumina/complete_data/dge/dge.all.polyA_adapter_trimmed.spatial_beads.mesh_7_hexagon_{tile}.h5ad').obs.n_reads.sum()\n",
    "    n_reads_spatial_no_mm += tile_reads\n",
    "    \n",
    "print(n_reads_spatial_no_mm)"
   ]
  },
  {
   "cell_type": "code",
   "execution_count": 8,
   "metadata": {},
   "outputs": [
    {
     "name": "stdout",
     "output_type": "stream",
     "text": [
      "\n",
      "\n",
      "\n",
      "\n",
      "334832516\n"
     ]
    }
   ],
   "source": [
    "# with intronic\n",
    "n_reads_non_spatial_no_mm = 0\n",
    "with open (f'{spacemake_dir_path}projects/open_st/processed_data/e13_mouse_rep2/illumina/complete_data/dge/dge_no_mm_non_spatial_summary_with_intronic.txt', 'r') as f:\n",
    "    for line in f.readlines()[7:]:\n",
    "        if len(line.split()) < 2:\n",
    "            print(line)\n",
    "            continue\n",
    "        n_reads_non_spatial_no_mm += int(line.split()[1])\n",
    "\n",
    "print(n_reads_non_spatial_no_mm)"
   ]
  },
  {
   "cell_type": "code",
   "execution_count": 9,
   "metadata": {},
   "outputs": [
    {
     "name": "stdout",
     "output_type": "stream",
     "text": [
      "0.6696069834507948\n"
     ]
    }
   ],
   "source": [
    "print(n_reads_spatial_no_mm / n_reads_non_spatial_no_mm)"
   ]
  },
  {
   "cell_type": "markdown",
   "metadata": {},
   "source": [
    "### human healthy lymph node"
   ]
  },
  {
   "cell_type": "code",
   "execution_count": 10,
   "metadata": {},
   "outputs": [
    {
     "name": "stdout",
     "output_type": "stream",
     "text": [
      "WARNING: Your filename has more than two extensions: ['.all', '.polyA_adapter_trimmed', '.spatial_beads', '.mesh_7_hexagon_fc_009_L3a_tile_1122', '.h5ad'].\n",
      "Only considering the two last: ['.mesh_7_hexagon_fc_009_L3a_tile_1122', '.h5ad'].\n",
      "WARNING: Your filename has more than two extensions: ['.all', '.polyA_adapter_trimmed', '.spatial_beads', '.mesh_7_hexagon_fc_009_L3a_tile_1122', '.h5ad'].\n",
      "Only considering the two last: ['.mesh_7_hexagon_fc_009_L3a_tile_1122', '.h5ad'].\n"
     ]
    },
    {
     "name": "stdout",
     "output_type": "stream",
     "text": [
      "WARNING: Your filename has more than two extensions: ['.all', '.polyA_adapter_trimmed', '.spatial_beads', '.mesh_7_hexagon_fc_009_L3a_tile_1123', '.h5ad'].\n",
      "Only considering the two last: ['.mesh_7_hexagon_fc_009_L3a_tile_1123', '.h5ad'].\n",
      "WARNING: Your filename has more than two extensions: ['.all', '.polyA_adapter_trimmed', '.spatial_beads', '.mesh_7_hexagon_fc_009_L3a_tile_1123', '.h5ad'].\n",
      "Only considering the two last: ['.mesh_7_hexagon_fc_009_L3a_tile_1123', '.h5ad'].\n",
      "WARNING: Your filename has more than two extensions: ['.all', '.polyA_adapter_trimmed', '.spatial_beads', '.mesh_7_hexagon_fc_009_L3a_tile_1124', '.h5ad'].\n",
      "Only considering the two last: ['.mesh_7_hexagon_fc_009_L3a_tile_1124', '.h5ad'].\n",
      "WARNING: Your filename has more than two extensions: ['.all', '.polyA_adapter_trimmed', '.spatial_beads', '.mesh_7_hexagon_fc_009_L3a_tile_1124', '.h5ad'].\n",
      "Only considering the two last: ['.mesh_7_hexagon_fc_009_L3a_tile_1124', '.h5ad'].\n",
      "WARNING: Your filename has more than two extensions: ['.all', '.polyA_adapter_trimmed', '.spatial_beads', '.mesh_7_hexagon_fc_009_L3a_tile_1222', '.h5ad'].\n",
      "Only considering the two last: ['.mesh_7_hexagon_fc_009_L3a_tile_1222', '.h5ad'].\n",
      "WARNING: Your filename has more than two extensions: ['.all', '.polyA_adapter_trimmed', '.spatial_beads', '.mesh_7_hexagon_fc_009_L3a_tile_1222', '.h5ad'].\n",
      "Only considering the two last: ['.mesh_7_hexagon_fc_009_L3a_tile_1222', '.h5ad'].\n",
      "WARNING: Your filename has more than two extensions: ['.all', '.polyA_adapter_trimmed', '.spatial_beads', '.mesh_7_hexagon_fc_009_L3a_tile_1223', '.h5ad'].\n",
      "Only considering the two last: ['.mesh_7_hexagon_fc_009_L3a_tile_1223', '.h5ad'].\n",
      "WARNING: Your filename has more than two extensions: ['.all', '.polyA_adapter_trimmed', '.spatial_beads', '.mesh_7_hexagon_fc_009_L3a_tile_1223', '.h5ad'].\n",
      "Only considering the two last: ['.mesh_7_hexagon_fc_009_L3a_tile_1223', '.h5ad'].\n",
      "WARNING: Your filename has more than two extensions: ['.all', '.polyA_adapter_trimmed', '.spatial_beads', '.mesh_7_hexagon_fc_009_L3a_tile_1224', '.h5ad'].\n",
      "Only considering the two last: ['.mesh_7_hexagon_fc_009_L3a_tile_1224', '.h5ad'].\n",
      "WARNING: Your filename has more than two extensions: ['.all', '.polyA_adapter_trimmed', '.spatial_beads', '.mesh_7_hexagon_fc_009_L3a_tile_1224', '.h5ad'].\n",
      "Only considering the two last: ['.mesh_7_hexagon_fc_009_L3a_tile_1224', '.h5ad'].\n",
      "WARNING: Your filename has more than two extensions: ['.all', '.polyA_adapter_trimmed', '.spatial_beads', '.mesh_7_hexagon_fc_009_L3a_tile_1322', '.h5ad'].\n",
      "Only considering the two last: ['.mesh_7_hexagon_fc_009_L3a_tile_1322', '.h5ad'].\n",
      "WARNING: Your filename has more than two extensions: ['.all', '.polyA_adapter_trimmed', '.spatial_beads', '.mesh_7_hexagon_fc_009_L3a_tile_1322', '.h5ad'].\n",
      "Only considering the two last: ['.mesh_7_hexagon_fc_009_L3a_tile_1322', '.h5ad'].\n",
      "WARNING: Your filename has more than two extensions: ['.all', '.polyA_adapter_trimmed', '.spatial_beads', '.mesh_7_hexagon_fc_009_L3a_tile_1323', '.h5ad'].\n",
      "Only considering the two last: ['.mesh_7_hexagon_fc_009_L3a_tile_1323', '.h5ad'].\n",
      "WARNING: Your filename has more than two extensions: ['.all', '.polyA_adapter_trimmed', '.spatial_beads', '.mesh_7_hexagon_fc_009_L3a_tile_1323', '.h5ad'].\n",
      "Only considering the two last: ['.mesh_7_hexagon_fc_009_L3a_tile_1323', '.h5ad'].\n",
      "WARNING: Your filename has more than two extensions: ['.all', '.polyA_adapter_trimmed', '.spatial_beads', '.mesh_7_hexagon_fc_009_L3a_tile_1324', '.h5ad'].\n",
      "Only considering the two last: ['.mesh_7_hexagon_fc_009_L3a_tile_1324', '.h5ad'].\n",
      "WARNING: Your filename has more than two extensions: ['.all', '.polyA_adapter_trimmed', '.spatial_beads', '.mesh_7_hexagon_fc_009_L3a_tile_1324', '.h5ad'].\n",
      "Only considering the two last: ['.mesh_7_hexagon_fc_009_L3a_tile_1324', '.h5ad'].\n",
      "357809326\n"
     ]
    }
   ],
   "source": [
    "n_reads_spatial_no_mm = 0\n",
    "puck_barcode_files_summary = pd.read_csv(f'{spacemake_dir_path}projects/open_st/processed_data/healthy_lymph_node/illumina/complete_data/puck_barcode_files_summary.csv')\n",
    "for tile in puck_barcode_files_summary.puck_barcode_file_id:\n",
    "    tile_reads = sc.read(f'{spacemake_dir_path}projects/open_st/processed_data/healthy_lymph_node/illumina/complete_data/dge/dge.all.polyA_adapter_trimmed.spatial_beads.mesh_7_hexagon_{tile}.h5ad').obs.n_reads.sum()\n",
    "    n_reads_spatial_no_mm += tile_reads\n",
    "    \n",
    "print(n_reads_spatial_no_mm)"
   ]
  },
  {
   "cell_type": "code",
   "execution_count": 11,
   "metadata": {},
   "outputs": [
    {
     "name": "stdout",
     "output_type": "stream",
     "text": [
      "\n",
      "\n",
      "\n",
      "\n",
      "622851214\n"
     ]
    }
   ],
   "source": [
    "# with intronic\n",
    "n_reads_non_spatial_no_mm = 0\n",
    "with open (f'{spacemake_dir_path}projects/open_st/processed_data/healthy_lymph_node/illumina/complete_data/dge/dge_no_mm_non_spatial_summary_with_intronic.txt', 'r') as f:\n",
    "    for line in f.readlines()[7:]:\n",
    "        if len(line.split()) < 2:\n",
    "            print(line)\n",
    "            continue\n",
    "        n_reads_non_spatial_no_mm += int(line.split()[1])\n",
    "        \n",
    "print(n_reads_non_spatial_no_mm)"
   ]
  },
  {
   "cell_type": "code",
   "execution_count": 12,
   "metadata": {},
   "outputs": [
    {
     "name": "stdout",
     "output_type": "stream",
     "text": [
      "0.5744699824892691\n"
     ]
    }
   ],
   "source": [
    "print(n_reads_spatial_no_mm / n_reads_non_spatial_no_mm)"
   ]
  },
  {
   "cell_type": "markdown",
   "metadata": {},
   "source": [
    "### human metastatic lymph node"
   ]
  },
  {
   "cell_type": "code",
   "execution_count": 13,
   "metadata": {},
   "outputs": [
    {
     "name": "stdout",
     "output_type": "stream",
     "text": [
      "WARNING: Your filename has more than two extensions: ['.all', '.polyA_adapter_trimmed', '.spatial_beads', '.mesh_7_hexagon_fc_009_L3b_tile_2104', '.h5ad'].\n",
      "Only considering the two last: ['.mesh_7_hexagon_fc_009_L3b_tile_2104', '.h5ad'].\n",
      "WARNING: Your filename has more than two extensions: ['.all', '.polyA_adapter_trimmed', '.spatial_beads', '.mesh_7_hexagon_fc_009_L3b_tile_2104', '.h5ad'].\n",
      "Only considering the two last: ['.mesh_7_hexagon_fc_009_L3b_tile_2104', '.h5ad'].\n"
     ]
    },
    {
     "name": "stdout",
     "output_type": "stream",
     "text": [
      "WARNING: Your filename has more than two extensions: ['.all', '.polyA_adapter_trimmed', '.spatial_beads', '.mesh_7_hexagon_fc_009_L3b_tile_2105', '.h5ad'].\n",
      "Only considering the two last: ['.mesh_7_hexagon_fc_009_L3b_tile_2105', '.h5ad'].\n",
      "WARNING: Your filename has more than two extensions: ['.all', '.polyA_adapter_trimmed', '.spatial_beads', '.mesh_7_hexagon_fc_009_L3b_tile_2105', '.h5ad'].\n",
      "Only considering the two last: ['.mesh_7_hexagon_fc_009_L3b_tile_2105', '.h5ad'].\n",
      "WARNING: Your filename has more than two extensions: ['.all', '.polyA_adapter_trimmed', '.spatial_beads', '.mesh_7_hexagon_fc_009_L3b_tile_2106', '.h5ad'].\n",
      "Only considering the two last: ['.mesh_7_hexagon_fc_009_L3b_tile_2106', '.h5ad'].\n",
      "WARNING: Your filename has more than two extensions: ['.all', '.polyA_adapter_trimmed', '.spatial_beads', '.mesh_7_hexagon_fc_009_L3b_tile_2106', '.h5ad'].\n",
      "Only considering the two last: ['.mesh_7_hexagon_fc_009_L3b_tile_2106', '.h5ad'].\n",
      "WARNING: Your filename has more than two extensions: ['.all', '.polyA_adapter_trimmed', '.spatial_beads', '.mesh_7_hexagon_fc_009_L3b_tile_2107', '.h5ad'].\n",
      "Only considering the two last: ['.mesh_7_hexagon_fc_009_L3b_tile_2107', '.h5ad'].\n",
      "WARNING: Your filename has more than two extensions: ['.all', '.polyA_adapter_trimmed', '.spatial_beads', '.mesh_7_hexagon_fc_009_L3b_tile_2107', '.h5ad'].\n",
      "Only considering the two last: ['.mesh_7_hexagon_fc_009_L3b_tile_2107', '.h5ad'].\n",
      "WARNING: Your filename has more than two extensions: ['.all', '.polyA_adapter_trimmed', '.spatial_beads', '.mesh_7_hexagon_fc_009_L3b_tile_2204', '.h5ad'].\n",
      "Only considering the two last: ['.mesh_7_hexagon_fc_009_L3b_tile_2204', '.h5ad'].\n",
      "WARNING: Your filename has more than two extensions: ['.all', '.polyA_adapter_trimmed', '.spatial_beads', '.mesh_7_hexagon_fc_009_L3b_tile_2204', '.h5ad'].\n",
      "Only considering the two last: ['.mesh_7_hexagon_fc_009_L3b_tile_2204', '.h5ad'].\n",
      "WARNING: Your filename has more than two extensions: ['.all', '.polyA_adapter_trimmed', '.spatial_beads', '.mesh_7_hexagon_fc_009_L3b_tile_2205', '.h5ad'].\n",
      "Only considering the two last: ['.mesh_7_hexagon_fc_009_L3b_tile_2205', '.h5ad'].\n",
      "WARNING: Your filename has more than two extensions: ['.all', '.polyA_adapter_trimmed', '.spatial_beads', '.mesh_7_hexagon_fc_009_L3b_tile_2205', '.h5ad'].\n",
      "Only considering the two last: ['.mesh_7_hexagon_fc_009_L3b_tile_2205', '.h5ad'].\n",
      "WARNING: Your filename has more than two extensions: ['.all', '.polyA_adapter_trimmed', '.spatial_beads', '.mesh_7_hexagon_fc_009_L3b_tile_2206', '.h5ad'].\n",
      "Only considering the two last: ['.mesh_7_hexagon_fc_009_L3b_tile_2206', '.h5ad'].\n",
      "WARNING: Your filename has more than two extensions: ['.all', '.polyA_adapter_trimmed', '.spatial_beads', '.mesh_7_hexagon_fc_009_L3b_tile_2206', '.h5ad'].\n",
      "Only considering the two last: ['.mesh_7_hexagon_fc_009_L3b_tile_2206', '.h5ad'].\n",
      "WARNING: Your filename has more than two extensions: ['.all', '.polyA_adapter_trimmed', '.spatial_beads', '.mesh_7_hexagon_fc_009_L3b_tile_2207', '.h5ad'].\n",
      "Only considering the two last: ['.mesh_7_hexagon_fc_009_L3b_tile_2207', '.h5ad'].\n",
      "WARNING: Your filename has more than two extensions: ['.all', '.polyA_adapter_trimmed', '.spatial_beads', '.mesh_7_hexagon_fc_009_L3b_tile_2207', '.h5ad'].\n",
      "Only considering the two last: ['.mesh_7_hexagon_fc_009_L3b_tile_2207', '.h5ad'].\n",
      "WARNING: Your filename has more than two extensions: ['.all', '.polyA_adapter_trimmed', '.spatial_beads', '.mesh_7_hexagon_fc_009_L3b_tile_2304', '.h5ad'].\n",
      "Only considering the two last: ['.mesh_7_hexagon_fc_009_L3b_tile_2304', '.h5ad'].\n",
      "WARNING: Your filename has more than two extensions: ['.all', '.polyA_adapter_trimmed', '.spatial_beads', '.mesh_7_hexagon_fc_009_L3b_tile_2304', '.h5ad'].\n",
      "Only considering the two last: ['.mesh_7_hexagon_fc_009_L3b_tile_2304', '.h5ad'].\n",
      "WARNING: Your filename has more than two extensions: ['.all', '.polyA_adapter_trimmed', '.spatial_beads', '.mesh_7_hexagon_fc_009_L3b_tile_2305', '.h5ad'].\n",
      "Only considering the two last: ['.mesh_7_hexagon_fc_009_L3b_tile_2305', '.h5ad'].\n",
      "WARNING: Your filename has more than two extensions: ['.all', '.polyA_adapter_trimmed', '.spatial_beads', '.mesh_7_hexagon_fc_009_L3b_tile_2305', '.h5ad'].\n",
      "Only considering the two last: ['.mesh_7_hexagon_fc_009_L3b_tile_2305', '.h5ad'].\n",
      "WARNING: Your filename has more than two extensions: ['.all', '.polyA_adapter_trimmed', '.spatial_beads', '.mesh_7_hexagon_fc_009_L3b_tile_2306', '.h5ad'].\n",
      "Only considering the two last: ['.mesh_7_hexagon_fc_009_L3b_tile_2306', '.h5ad'].\n",
      "WARNING: Your filename has more than two extensions: ['.all', '.polyA_adapter_trimmed', '.spatial_beads', '.mesh_7_hexagon_fc_009_L3b_tile_2306', '.h5ad'].\n",
      "Only considering the two last: ['.mesh_7_hexagon_fc_009_L3b_tile_2306', '.h5ad'].\n",
      "WARNING: Your filename has more than two extensions: ['.all', '.polyA_adapter_trimmed', '.spatial_beads', '.mesh_7_hexagon_fc_009_L3b_tile_2307', '.h5ad'].\n",
      "Only considering the two last: ['.mesh_7_hexagon_fc_009_L3b_tile_2307', '.h5ad'].\n",
      "WARNING: Your filename has more than two extensions: ['.all', '.polyA_adapter_trimmed', '.spatial_beads', '.mesh_7_hexagon_fc_009_L3b_tile_2307', '.h5ad'].\n",
      "Only considering the two last: ['.mesh_7_hexagon_fc_009_L3b_tile_2307', '.h5ad'].\n",
      "478592467\n"
     ]
    }
   ],
   "source": [
    "n_reads_spatial_no_mm = 0\n",
    "puck_barcode_files_summary = pd.read_csv(f'{spacemake_dir_path}projects/open_st/processed_data/metastatic_lymph_node/illumina/complete_data/puck_barcode_files_summary.csv')\n",
    "for tile in puck_barcode_files_summary.puck_barcode_file_id:\n",
    "    tile_reads = sc.read(f'{spacemake_dir_path}projects/open_st/processed_data/metastatic_lymph_node/illumina/complete_data/dge/dge.all.polyA_adapter_trimmed.spatial_beads.mesh_7_hexagon_{tile}.h5ad').obs.n_reads.sum()\n",
    "    n_reads_spatial_no_mm += tile_reads\n",
    "    \n",
    "print(n_reads_spatial_no_mm)"
   ]
  },
  {
   "cell_type": "code",
   "execution_count": 14,
   "metadata": {},
   "outputs": [
    {
     "name": "stdout",
     "output_type": "stream",
     "text": [
      "\n",
      "\n",
      "\n",
      "\n",
      "\n",
      "\n",
      "\n",
      "\n",
      "\n",
      "\n",
      "\n",
      "\n",
      "777213573\n"
     ]
    }
   ],
   "source": [
    "# with intronic\n",
    "n_reads_non_spatial_no_mm = 0\n",
    "for i in range(3):\n",
    "    with open (f'{spacemake_dir_path}projects/open_st/processed_data/metastatic_lymph_node/illumina/complete_data/dge/dge_no_mm_non_spatial_summary_with_intronic_split{i}.txt', 'r') as f:\n",
    "        for line in f.readlines()[7:]:\n",
    "            if len(line.split()) < 2:\n",
    "                print(line)\n",
    "                continue\n",
    "            n_reads_non_spatial_no_mm += int(line.split()[1])\n",
    "        \n",
    "print(n_reads_non_spatial_no_mm)"
   ]
  },
  {
   "cell_type": "code",
   "execution_count": 15,
   "metadata": {},
   "outputs": [
    {
     "name": "stdout",
     "output_type": "stream",
     "text": [
      "0.6157798623519407\n"
     ]
    }
   ],
   "source": [
    "print(n_reads_spatial_no_mm / n_reads_non_spatial_no_mm)"
   ]
  },
  {
   "cell_type": "markdown",
   "metadata": {},
   "source": [
    "### primary tumor"
   ]
  },
  {
   "cell_type": "code",
   "execution_count": 16,
   "metadata": {},
   "outputs": [
    {
     "name": "stdout",
     "output_type": "stream",
     "text": [
      "WARNING: Your filename has more than two extensions: ['.all', '.polyA_adapter_trimmed', '.spatial_beads_fc_009_L4b_tile_2438', '.h5ad'].\n",
      "Only considering the two last: ['.spatial_beads_fc_009_L4b_tile_2438', '.h5ad'].\n",
      "WARNING: Your filename has more than two extensions: ['.all', '.polyA_adapter_trimmed', '.spatial_beads_fc_009_L4b_tile_2438', '.h5ad'].\n",
      "Only considering the two last: ['.spatial_beads_fc_009_L4b_tile_2438', '.h5ad'].\n"
     ]
    },
    {
     "name": "stdout",
     "output_type": "stream",
     "text": [
      "WARNING: Your filename has more than two extensions: ['.all', '.polyA_adapter_trimmed', '.spatial_beads_fc_009_L4b_tile_2439', '.h5ad'].\n",
      "Only considering the two last: ['.spatial_beads_fc_009_L4b_tile_2439', '.h5ad'].\n",
      "WARNING: Your filename has more than two extensions: ['.all', '.polyA_adapter_trimmed', '.spatial_beads_fc_009_L4b_tile_2439', '.h5ad'].\n",
      "Only considering the two last: ['.spatial_beads_fc_009_L4b_tile_2439', '.h5ad'].\n",
      "WARNING: Your filename has more than two extensions: ['.all', '.polyA_adapter_trimmed', '.spatial_beads_fc_009_L4b_tile_2440', '.h5ad'].\n",
      "Only considering the two last: ['.spatial_beads_fc_009_L4b_tile_2440', '.h5ad'].\n",
      "WARNING: Your filename has more than two extensions: ['.all', '.polyA_adapter_trimmed', '.spatial_beads_fc_009_L4b_tile_2440', '.h5ad'].\n",
      "Only considering the two last: ['.spatial_beads_fc_009_L4b_tile_2440', '.h5ad'].\n",
      "WARNING: Your filename has more than two extensions: ['.all', '.polyA_adapter_trimmed', '.spatial_beads_fc_009_L4b_tile_2441', '.h5ad'].\n",
      "Only considering the two last: ['.spatial_beads_fc_009_L4b_tile_2441', '.h5ad'].\n",
      "WARNING: Your filename has more than two extensions: ['.all', '.polyA_adapter_trimmed', '.spatial_beads_fc_009_L4b_tile_2441', '.h5ad'].\n",
      "Only considering the two last: ['.spatial_beads_fc_009_L4b_tile_2441', '.h5ad'].\n",
      "WARNING: Your filename has more than two extensions: ['.all', '.polyA_adapter_trimmed', '.spatial_beads_fc_009_L4b_tile_2442', '.h5ad'].\n",
      "Only considering the two last: ['.spatial_beads_fc_009_L4b_tile_2442', '.h5ad'].\n",
      "WARNING: Your filename has more than two extensions: ['.all', '.polyA_adapter_trimmed', '.spatial_beads_fc_009_L4b_tile_2442', '.h5ad'].\n",
      "Only considering the two last: ['.spatial_beads_fc_009_L4b_tile_2442', '.h5ad'].\n",
      "WARNING: Your filename has more than two extensions: ['.all', '.polyA_adapter_trimmed', '.spatial_beads_fc_009_L4b_tile_2538', '.h5ad'].\n",
      "Only considering the two last: ['.spatial_beads_fc_009_L4b_tile_2538', '.h5ad'].\n",
      "WARNING: Your filename has more than two extensions: ['.all', '.polyA_adapter_trimmed', '.spatial_beads_fc_009_L4b_tile_2538', '.h5ad'].\n",
      "Only considering the two last: ['.spatial_beads_fc_009_L4b_tile_2538', '.h5ad'].\n",
      "WARNING: Your filename has more than two extensions: ['.all', '.polyA_adapter_trimmed', '.spatial_beads_fc_009_L4b_tile_2539', '.h5ad'].\n",
      "Only considering the two last: ['.spatial_beads_fc_009_L4b_tile_2539', '.h5ad'].\n",
      "WARNING: Your filename has more than two extensions: ['.all', '.polyA_adapter_trimmed', '.spatial_beads_fc_009_L4b_tile_2539', '.h5ad'].\n",
      "Only considering the two last: ['.spatial_beads_fc_009_L4b_tile_2539', '.h5ad'].\n",
      "WARNING: Your filename has more than two extensions: ['.all', '.polyA_adapter_trimmed', '.spatial_beads_fc_009_L4b_tile_2540', '.h5ad'].\n",
      "Only considering the two last: ['.spatial_beads_fc_009_L4b_tile_2540', '.h5ad'].\n",
      "WARNING: Your filename has more than two extensions: ['.all', '.polyA_adapter_trimmed', '.spatial_beads_fc_009_L4b_tile_2540', '.h5ad'].\n",
      "Only considering the two last: ['.spatial_beads_fc_009_L4b_tile_2540', '.h5ad'].\n",
      "WARNING: Your filename has more than two extensions: ['.all', '.polyA_adapter_trimmed', '.spatial_beads_fc_009_L4b_tile_2541', '.h5ad'].\n",
      "Only considering the two last: ['.spatial_beads_fc_009_L4b_tile_2541', '.h5ad'].\n",
      "WARNING: Your filename has more than two extensions: ['.all', '.polyA_adapter_trimmed', '.spatial_beads_fc_009_L4b_tile_2541', '.h5ad'].\n",
      "Only considering the two last: ['.spatial_beads_fc_009_L4b_tile_2541', '.h5ad'].\n",
      "WARNING: Your filename has more than two extensions: ['.all', '.polyA_adapter_trimmed', '.spatial_beads_fc_009_L4b_tile_2542', '.h5ad'].\n",
      "Only considering the two last: ['.spatial_beads_fc_009_L4b_tile_2542', '.h5ad'].\n",
      "WARNING: Your filename has more than two extensions: ['.all', '.polyA_adapter_trimmed', '.spatial_beads_fc_009_L4b_tile_2542', '.h5ad'].\n",
      "Only considering the two last: ['.spatial_beads_fc_009_L4b_tile_2542', '.h5ad'].\n",
      "WARNING: Your filename has more than two extensions: ['.all', '.polyA_adapter_trimmed', '.spatial_beads_fc_009_L4b_tile_2638', '.h5ad'].\n",
      "Only considering the two last: ['.spatial_beads_fc_009_L4b_tile_2638', '.h5ad'].\n",
      "WARNING: Your filename has more than two extensions: ['.all', '.polyA_adapter_trimmed', '.spatial_beads_fc_009_L4b_tile_2638', '.h5ad'].\n",
      "Only considering the two last: ['.spatial_beads_fc_009_L4b_tile_2638', '.h5ad'].\n",
      "WARNING: Your filename has more than two extensions: ['.all', '.polyA_adapter_trimmed', '.spatial_beads_fc_009_L4b_tile_2639', '.h5ad'].\n",
      "Only considering the two last: ['.spatial_beads_fc_009_L4b_tile_2639', '.h5ad'].\n",
      "WARNING: Your filename has more than two extensions: ['.all', '.polyA_adapter_trimmed', '.spatial_beads_fc_009_L4b_tile_2639', '.h5ad'].\n",
      "Only considering the two last: ['.spatial_beads_fc_009_L4b_tile_2639', '.h5ad'].\n",
      "WARNING: Your filename has more than two extensions: ['.all', '.polyA_adapter_trimmed', '.spatial_beads_fc_009_L4b_tile_2640', '.h5ad'].\n",
      "Only considering the two last: ['.spatial_beads_fc_009_L4b_tile_2640', '.h5ad'].\n",
      "WARNING: Your filename has more than two extensions: ['.all', '.polyA_adapter_trimmed', '.spatial_beads_fc_009_L4b_tile_2640', '.h5ad'].\n",
      "Only considering the two last: ['.spatial_beads_fc_009_L4b_tile_2640', '.h5ad'].\n",
      "WARNING: Your filename has more than two extensions: ['.all', '.polyA_adapter_trimmed', '.spatial_beads_fc_009_L4b_tile_2641', '.h5ad'].\n",
      "Only considering the two last: ['.spatial_beads_fc_009_L4b_tile_2641', '.h5ad'].\n",
      "WARNING: Your filename has more than two extensions: ['.all', '.polyA_adapter_trimmed', '.spatial_beads_fc_009_L4b_tile_2641', '.h5ad'].\n",
      "Only considering the two last: ['.spatial_beads_fc_009_L4b_tile_2641', '.h5ad'].\n",
      "WARNING: Your filename has more than two extensions: ['.all', '.polyA_adapter_trimmed', '.spatial_beads_fc_009_L4b_tile_2642', '.h5ad'].\n",
      "Only considering the two last: ['.spatial_beads_fc_009_L4b_tile_2642', '.h5ad'].\n",
      "WARNING: Your filename has more than two extensions: ['.all', '.polyA_adapter_trimmed', '.spatial_beads_fc_009_L4b_tile_2642', '.h5ad'].\n",
      "Only considering the two last: ['.spatial_beads_fc_009_L4b_tile_2642', '.h5ad'].\n",
      "465408320\n"
     ]
    }
   ],
   "source": [
    "n_reads_spatial_no_mm = 0\n",
    "puck_barcode_files_summary = pd.read_csv(f'{spacemake_dir_path}projects/open_st/processed_data/primary_tumor/illumina/complete_data/puck_barcode_files_summary.csv')\n",
    "for tile in puck_barcode_files_summary.puck_barcode_file_id:\n",
    "    tile_reads = sc.read(f'{spacemake_dir_path}projects/open_st/processed_data/primary_tumor/illumina/complete_data/dge/dge.all.polyA_adapter_trimmed.spatial_beads_{tile}.h5ad').obs.n_reads.sum()\n",
    "    n_reads_spatial_no_mm += tile_reads\n",
    "    \n",
    "print(n_reads_spatial_no_mm)"
   ]
  },
  {
   "cell_type": "code",
   "execution_count": 17,
   "metadata": {},
   "outputs": [
    {
     "name": "stdout",
     "output_type": "stream",
     "text": [
      "\n",
      "\n",
      "\n",
      "\n",
      "\n",
      "\n",
      "\n",
      "\n",
      "\n",
      "\n",
      "\n",
      "\n",
      "816687493\n"
     ]
    }
   ],
   "source": [
    "# with intronic\n",
    "n_reads_non_spatial_no_mm = 0\n",
    "for i in range(3):\n",
    "    with open (f'{spacemake_dir_path}projects/open_st/processed_data/primary_tumor/illumina/complete_data/dge/dge_no_mm_non_spatial_summary_with_intronic_split{i}.txt', 'r') as f:\n",
    "        for line in f.readlines()[7:]:\n",
    "            if len(line.split()) < 2:\n",
    "                print(line)\n",
    "                continue\n",
    "            n_reads_non_spatial_no_mm += int(line.split()[1])\n",
    "        \n",
    "print(n_reads_non_spatial_no_mm)"
   ]
  },
  {
   "cell_type": "code",
   "execution_count": 18,
   "metadata": {},
   "outputs": [
    {
     "name": "stdout",
     "output_type": "stream",
     "text": [
      "0.56987320607835\n"
     ]
    }
   ],
   "source": [
    "print(n_reads_spatial_no_mm / n_reads_non_spatial_no_mm)"
   ]
  },
  {
   "cell_type": "markdown",
   "metadata": {},
   "source": [
    "## Seq-scope"
   ]
  },
  {
   "cell_type": "code",
   "execution_count": 19,
   "metadata": {},
   "outputs": [
    {
     "name": "stdout",
     "output_type": "stream",
     "text": [
      "WARNING: Your filename has more than two extensions: ['.all', '.polyA_adapter_trimmed', '.spatial_beads', '.mesh_7_hexagon_tile_2101_coords', '.h5ad'].\n",
      "Only considering the two last: ['.mesh_7_hexagon_tile_2101_coords', '.h5ad'].\n",
      "WARNING: Your filename has more than two extensions: ['.all', '.polyA_adapter_trimmed', '.spatial_beads', '.mesh_7_hexagon_tile_2101_coords', '.h5ad'].\n",
      "Only considering the two last: ['.mesh_7_hexagon_tile_2101_coords', '.h5ad'].\n",
      "WARNING: Your filename has more than two extensions: ['.all', '.polyA_adapter_trimmed', '.spatial_beads', '.mesh_7_hexagon_tile_2102_coords', '.h5ad'].\n",
      "Only considering the two last: ['.mesh_7_hexagon_tile_2102_coords', '.h5ad'].\n",
      "WARNING: Your filename has more than two extensions: ['.all', '.polyA_adapter_trimmed', '.spatial_beads', '.mesh_7_hexagon_tile_2102_coords', '.h5ad'].\n",
      "Only considering the two last: ['.mesh_7_hexagon_tile_2102_coords', '.h5ad'].\n",
      "WARNING: Your filename has more than two extensions: ['.all', '.polyA_adapter_trimmed', '.spatial_beads', '.mesh_7_hexagon_tile_2103_coords', '.h5ad'].\n",
      "Only considering the two last: ['.mesh_7_hexagon_tile_2103_coords', '.h5ad'].\n",
      "WARNING: Your filename has more than two extensions: ['.all', '.polyA_adapter_trimmed', '.spatial_beads', '.mesh_7_hexagon_tile_2103_coords', '.h5ad'].\n",
      "Only considering the two last: ['.mesh_7_hexagon_tile_2103_coords', '.h5ad'].\n",
      "WARNING: Your filename has more than two extensions: ['.all', '.polyA_adapter_trimmed', '.spatial_beads', '.mesh_7_hexagon_tile_2104_coords', '.h5ad'].\n",
      "Only considering the two last: ['.mesh_7_hexagon_tile_2104_coords', '.h5ad'].\n",
      "WARNING: Your filename has more than two extensions: ['.all', '.polyA_adapter_trimmed', '.spatial_beads', '.mesh_7_hexagon_tile_2104_coords', '.h5ad'].\n",
      "Only considering the two last: ['.mesh_7_hexagon_tile_2104_coords', '.h5ad'].\n",
      "WARNING: Your filename has more than two extensions: ['.all', '.polyA_adapter_trimmed', '.spatial_beads', '.mesh_7_hexagon_tile_2105_coords', '.h5ad'].\n",
      "Only considering the two last: ['.mesh_7_hexagon_tile_2105_coords', '.h5ad'].\n",
      "WARNING: Your filename has more than two extensions: ['.all', '.polyA_adapter_trimmed', '.spatial_beads', '.mesh_7_hexagon_tile_2105_coords', '.h5ad'].\n",
      "Only considering the two last: ['.mesh_7_hexagon_tile_2105_coords', '.h5ad'].\n",
      "WARNING: Your filename has more than two extensions: ['.all', '.polyA_adapter_trimmed', '.spatial_beads', '.mesh_7_hexagon_tile_2106_coords', '.h5ad'].\n",
      "Only considering the two last: ['.mesh_7_hexagon_tile_2106_coords', '.h5ad'].\n",
      "WARNING: Your filename has more than two extensions: ['.all', '.polyA_adapter_trimmed', '.spatial_beads', '.mesh_7_hexagon_tile_2106_coords', '.h5ad'].\n",
      "Only considering the two last: ['.mesh_7_hexagon_tile_2106_coords', '.h5ad'].\n",
      "WARNING: Your filename has more than two extensions: ['.all', '.polyA_adapter_trimmed', '.spatial_beads', '.mesh_7_hexagon_tile_2107_coords', '.h5ad'].\n",
      "Only considering the two last: ['.mesh_7_hexagon_tile_2107_coords', '.h5ad'].\n",
      "WARNING: Your filename has more than two extensions: ['.all', '.polyA_adapter_trimmed', '.spatial_beads', '.mesh_7_hexagon_tile_2107_coords', '.h5ad'].\n",
      "Only considering the two last: ['.mesh_7_hexagon_tile_2107_coords', '.h5ad'].\n",
      "WARNING: Your filename has more than two extensions: ['.all', '.polyA_adapter_trimmed', '.spatial_beads', '.mesh_7_hexagon_tile_2108_coords', '.h5ad'].\n",
      "Only considering the two last: ['.mesh_7_hexagon_tile_2108_coords', '.h5ad'].\n",
      "WARNING: Your filename has more than two extensions: ['.all', '.polyA_adapter_trimmed', '.spatial_beads', '.mesh_7_hexagon_tile_2108_coords', '.h5ad'].\n",
      "Only considering the two last: ['.mesh_7_hexagon_tile_2108_coords', '.h5ad'].\n",
      "WARNING: Your filename has more than two extensions: ['.all', '.polyA_adapter_trimmed', '.spatial_beads', '.mesh_7_hexagon_tile_2109_coords', '.h5ad'].\n",
      "Only considering the two last: ['.mesh_7_hexagon_tile_2109_coords', '.h5ad'].\n",
      "WARNING: Your filename has more than two extensions: ['.all', '.polyA_adapter_trimmed', '.spatial_beads', '.mesh_7_hexagon_tile_2109_coords', '.h5ad'].\n",
      "Only considering the two last: ['.mesh_7_hexagon_tile_2109_coords', '.h5ad'].\n",
      "WARNING: Your filename has more than two extensions: ['.all', '.polyA_adapter_trimmed', '.spatial_beads', '.mesh_7_hexagon_tile_2110_coords', '.h5ad'].\n",
      "Only considering the two last: ['.mesh_7_hexagon_tile_2110_coords', '.h5ad'].\n",
      "WARNING: Your filename has more than two extensions: ['.all', '.polyA_adapter_trimmed', '.spatial_beads', '.mesh_7_hexagon_tile_2110_coords', '.h5ad'].\n",
      "Only considering the two last: ['.mesh_7_hexagon_tile_2110_coords', '.h5ad'].\n",
      "WARNING: Your filename has more than two extensions: ['.all', '.polyA_adapter_trimmed', '.spatial_beads', '.mesh_7_hexagon_tile_2111_coords', '.h5ad'].\n",
      "Only considering the two last: ['.mesh_7_hexagon_tile_2111_coords', '.h5ad'].\n",
      "WARNING: Your filename has more than two extensions: ['.all', '.polyA_adapter_trimmed', '.spatial_beads', '.mesh_7_hexagon_tile_2111_coords', '.h5ad'].\n",
      "Only considering the two last: ['.mesh_7_hexagon_tile_2111_coords', '.h5ad'].\n",
      "WARNING: Your filename has more than two extensions: ['.all', '.polyA_adapter_trimmed', '.spatial_beads', '.mesh_7_hexagon_tile_2112_coords', '.h5ad'].\n",
      "Only considering the two last: ['.mesh_7_hexagon_tile_2112_coords', '.h5ad'].\n",
      "WARNING: Your filename has more than two extensions: ['.all', '.polyA_adapter_trimmed', '.spatial_beads', '.mesh_7_hexagon_tile_2112_coords', '.h5ad'].\n",
      "Only considering the two last: ['.mesh_7_hexagon_tile_2112_coords', '.h5ad'].\n",
      "WARNING: Your filename has more than two extensions: ['.all', '.polyA_adapter_trimmed', '.spatial_beads', '.mesh_7_hexagon_tile_2113_coords', '.h5ad'].\n",
      "Only considering the two last: ['.mesh_7_hexagon_tile_2113_coords', '.h5ad'].\n",
      "WARNING: Your filename has more than two extensions: ['.all', '.polyA_adapter_trimmed', '.spatial_beads', '.mesh_7_hexagon_tile_2113_coords', '.h5ad'].\n",
      "Only considering the two last: ['.mesh_7_hexagon_tile_2113_coords', '.h5ad'].\n",
      "WARNING: Your filename has more than two extensions: ['.all', '.polyA_adapter_trimmed', '.spatial_beads', '.mesh_7_hexagon_tile_2114_coords', '.h5ad'].\n",
      "Only considering the two last: ['.mesh_7_hexagon_tile_2114_coords', '.h5ad'].\n",
      "WARNING: Your filename has more than two extensions: ['.all', '.polyA_adapter_trimmed', '.spatial_beads', '.mesh_7_hexagon_tile_2114_coords', '.h5ad'].\n",
      "Only considering the two last: ['.mesh_7_hexagon_tile_2114_coords', '.h5ad'].\n",
      "WARNING: Your filename has more than two extensions: ['.all', '.polyA_adapter_trimmed', '.spatial_beads', '.mesh_7_hexagon_tile_2115_coords', '.h5ad'].\n",
      "Only considering the two last: ['.mesh_7_hexagon_tile_2115_coords', '.h5ad'].\n",
      "WARNING: Your filename has more than two extensions: ['.all', '.polyA_adapter_trimmed', '.spatial_beads', '.mesh_7_hexagon_tile_2115_coords', '.h5ad'].\n",
      "Only considering the two last: ['.mesh_7_hexagon_tile_2115_coords', '.h5ad'].\n",
      "WARNING: Your filename has more than two extensions: ['.all', '.polyA_adapter_trimmed', '.spatial_beads', '.mesh_7_hexagon_tile_2116_coords', '.h5ad'].\n",
      "Only considering the two last: ['.mesh_7_hexagon_tile_2116_coords', '.h5ad'].\n",
      "WARNING: Your filename has more than two extensions: ['.all', '.polyA_adapter_trimmed', '.spatial_beads', '.mesh_7_hexagon_tile_2116_coords', '.h5ad'].\n",
      "Only considering the two last: ['.mesh_7_hexagon_tile_2116_coords', '.h5ad'].\n",
      "WARNING: Your filename has more than two extensions: ['.all', '.polyA_adapter_trimmed', '.spatial_beads', '.mesh_7_hexagon_tile_2117_coords', '.h5ad'].\n",
      "Only considering the two last: ['.mesh_7_hexagon_tile_2117_coords', '.h5ad'].\n",
      "WARNING: Your filename has more than two extensions: ['.all', '.polyA_adapter_trimmed', '.spatial_beads', '.mesh_7_hexagon_tile_2117_coords', '.h5ad'].\n",
      "Only considering the two last: ['.mesh_7_hexagon_tile_2117_coords', '.h5ad'].\n",
      "WARNING: Your filename has more than two extensions: ['.all', '.polyA_adapter_trimmed', '.spatial_beads', '.mesh_7_hexagon_tile_2118_coords', '.h5ad'].\n",
      "Only considering the two last: ['.mesh_7_hexagon_tile_2118_coords', '.h5ad'].\n",
      "WARNING: Your filename has more than two extensions: ['.all', '.polyA_adapter_trimmed', '.spatial_beads', '.mesh_7_hexagon_tile_2118_coords', '.h5ad'].\n",
      "Only considering the two last: ['.mesh_7_hexagon_tile_2118_coords', '.h5ad'].\n",
      "WARNING: Your filename has more than two extensions: ['.all', '.polyA_adapter_trimmed', '.spatial_beads', '.mesh_7_hexagon_tile_2119_coords', '.h5ad'].\n",
      "Only considering the two last: ['.mesh_7_hexagon_tile_2119_coords', '.h5ad'].\n",
      "WARNING: Your filename has more than two extensions: ['.all', '.polyA_adapter_trimmed', '.spatial_beads', '.mesh_7_hexagon_tile_2119_coords', '.h5ad'].\n",
      "Only considering the two last: ['.mesh_7_hexagon_tile_2119_coords', '.h5ad'].\n",
      "29920807\n"
     ]
    }
   ],
   "source": [
    "n_reads_spatial_no_mm = 0\n",
    "puck_barcode_files_summary = pd.read_csv(f'{spacemake_dir_path}projects/seq_scope/processed_data/mouse_liver/illumina/complete_data/puck_barcode_files_summary.csv')\n",
    "for tile in puck_barcode_files_summary.puck_barcode_file_id:\n",
    "    tile_reads = sc.read(f'{spacemake_dir_path}projects/seq_scope/processed_data/mouse_liver/illumina/complete_data/dge/dge.all.polyA_adapter_trimmed.spatial_beads.mesh_7_hexagon_{tile}.h5ad').obs.n_reads.sum()\n",
    "    n_reads_spatial_no_mm += tile_reads\n",
    "    \n",
    "print(n_reads_spatial_no_mm)"
   ]
  },
  {
   "cell_type": "code",
   "execution_count": 20,
   "metadata": {},
   "outputs": [
    {
     "name": "stdout",
     "output_type": "stream",
     "text": [
      "\n",
      "\n",
      "\n",
      "\n",
      "151099841\n"
     ]
    }
   ],
   "source": [
    "# with intronic\n",
    "n_reads_non_spatial_no_mm = 0\n",
    "with open (f'{spacemake_dir_path}projects/seq_scope/processed_data/mouse_liver/illumina/complete_data/dge/dge_no_mm_non_spatial_summary_with_intronic.txt', 'r') as f:\n",
    "    for line in f.readlines()[7:]:\n",
    "        if len(line.split()) < 2:\n",
    "            print(line)\n",
    "            continue\n",
    "        n_reads_non_spatial_no_mm += int(line.split()[1])\n",
    "        \n",
    "print(n_reads_non_spatial_no_mm)"
   ]
  },
  {
   "cell_type": "code",
   "execution_count": 21,
   "metadata": {},
   "outputs": [
    {
     "name": "stdout",
     "output_type": "stream",
     "text": [
      "0.19802010910123988\n"
     ]
    }
   ],
   "source": [
    "print(n_reads_spatial_no_mm / n_reads_non_spatial_no_mm)"
   ]
  },
  {
   "cell_type": "markdown",
   "metadata": {},
   "source": [
    "## Stereo-seq"
   ]
  },
  {
   "cell_type": "code",
   "execution_count": 22,
   "metadata": {},
   "outputs": [
    {
     "name": "stdout",
     "output_type": "stream",
     "text": [
      "\n",
      "\n",
      "\n",
      "\n",
      "\n",
      "\n",
      "\n",
      "\n",
      "\n",
      "\n",
      "\n",
      "\n",
      "\n",
      "\n",
      "\n",
      "\n",
      "\n",
      "\n",
      "\n",
      "\n",
      "\n",
      "\n",
      "\n",
      "\n",
      "\n",
      "\n",
      "\n",
      "\n",
      "\n",
      "\n",
      "\n",
      "\n",
      "\n",
      "\n",
      "\n",
      "\n",
      "\n",
      "\n",
      "\n",
      "\n",
      "\n",
      "\n",
      "\n",
      "\n",
      "\n",
      "\n",
      "\n",
      "\n",
      "\n",
      "\n",
      "\n",
      "\n",
      "\n",
      "\n",
      "\n",
      "\n",
      "\n",
      "\n",
      "\n",
      "\n",
      "\n",
      "\n",
      "\n",
      "\n",
      "\n",
      "\n",
      "\n",
      "\n",
      "\n",
      "\n",
      "\n",
      "\n",
      "\n",
      "\n",
      "\n",
      "\n",
      "\n",
      "\n",
      "\n",
      "\n",
      "\n",
      "\n",
      "\n",
      "\n",
      "\n",
      "\n",
      "\n",
      "\n",
      "\n",
      "\n",
      "\n",
      "\n",
      "\n",
      "\n",
      "\n",
      "\n",
      "\n",
      "\n",
      "\n",
      "\n",
      "\n",
      "\n",
      "\n",
      "\n",
      "\n",
      "\n",
      "\n",
      "\n",
      "\n",
      "\n",
      "\n",
      "\n",
      "\n",
      "\n",
      "\n",
      "\n",
      "\n",
      "\n",
      "\n",
      "\n",
      "\n",
      "\n",
      "\n",
      "\n",
      "\n",
      "\n",
      "\n",
      "\n",
      "\n",
      "\n",
      "\n",
      "\n",
      "\n",
      "\n",
      "\n",
      "\n",
      "\n",
      "\n",
      "\n",
      "\n",
      "\n",
      "\n",
      "\n",
      "\n",
      "\n",
      "\n",
      "\n",
      "\n",
      "\n",
      "\n",
      "\n",
      "\n",
      "\n",
      "\n",
      "\n",
      "\n",
      "\n",
      "\n",
      "\n",
      "\n",
      "\n",
      "\n",
      "\n",
      "\n",
      "\n",
      "\n",
      "\n",
      "\n",
      "\n",
      "\n",
      "\n",
      "\n",
      "\n",
      "\n",
      "\n",
      "\n",
      "\n",
      "\n",
      "\n",
      "\n",
      "\n",
      "\n",
      "\n",
      "\n",
      "\n",
      "\n",
      "\n",
      "\n",
      "\n",
      "\n",
      "\n",
      "\n",
      "\n",
      "\n",
      "\n",
      "\n",
      "\n",
      "\n",
      "\n",
      "\n",
      "\n",
      "\n",
      "\n",
      "\n",
      "620074120\n"
     ]
    }
   ],
   "source": [
    "n_reads_spatial_no_mm = 0\n",
    "puck_barcode_files_summary = pd.read_csv(f'{spacemake_dir_path}projects/stereo_seq/processed_data/adult_mouse_brain/illumina/complete_data/puck_barcode_files_summary.csv')\n",
    "for tile in puck_barcode_files_summary.puck_barcode_file_id:\n",
    "    with open(f'{spacemake_dir_path}projects/stereo_seq/processed_data/adult_mouse_brain/illumina/complete_data/dge/dge.all.polyA_adapter_trimmed.spatial_beads_{tile}.summary.txt', 'r') as f:\n",
    "        for line in f.readlines()[7:]:\n",
    "            if len(line.split()) < 2:\n",
    "                print(line)\n",
    "                continue\n",
    "            n_reads_spatial_no_mm += int(line.split()[1])\n",
    "    \n",
    "print(n_reads_spatial_no_mm)"
   ]
  },
  {
   "cell_type": "code",
   "execution_count": 23,
   "metadata": {},
   "outputs": [
    {
     "name": "stdout",
     "output_type": "stream",
     "text": [
      "\n",
      "\n",
      "\n",
      "\n",
      "\n",
      "\n",
      "\n",
      "\n",
      "\n",
      "\n",
      "\n",
      "\n",
      "\n",
      "\n",
      "\n",
      "\n",
      "\n",
      "\n",
      "\n",
      "\n",
      "879488569\n"
     ]
    }
   ],
   "source": [
    "# with intronic\n",
    "n_reads_non_spatial_no_mm = 0\n",
    "for i in range(5):\n",
    "    with open (f'{spacemake_dir_path}projects/stereo_seq/processed_data/adult_mouse_brain/illumina/complete_data/dge/dge_no_mm_non_spatial_summary_with_intronic_split{i}.txt', 'r') as f:\n",
    "        for line in f.readlines()[7:]:\n",
    "            if len(line.split()) < 2:\n",
    "                print(line)\n",
    "                continue\n",
    "            n_reads_non_spatial_no_mm += int(line.split()[1])\n",
    "        \n",
    "print(n_reads_non_spatial_no_mm)"
   ]
  },
  {
   "cell_type": "code",
   "execution_count": 24,
   "metadata": {},
   "outputs": [
    {
     "name": "stdout",
     "output_type": "stream",
     "text": [
      "0.7050394307057787\n"
     ]
    }
   ],
   "source": [
    "print(n_reads_spatial_no_mm / n_reads_non_spatial_no_mm)"
   ]
  },
  {
   "attachments": {},
   "cell_type": "markdown",
   "metadata": {},
   "source": [
    "## Slide-seq"
   ]
  },
  {
   "cell_type": "code",
   "execution_count": 25,
   "metadata": {},
   "outputs": [
    {
     "name": "stdout",
     "output_type": "stream",
     "text": [
      "WARNING: Your filename has more than two extensions: ['.all', '.polyA_adapter_trimmed', '.spatial_beads_GSM5915059_201104_36_matched_bead_locations_new', '.h5ad'].\n",
      "Only considering the two last: ['.spatial_beads_GSM5915059_201104_36_matched_bead_locations_new', '.h5ad'].\n",
      "WARNING: Your filename has more than two extensions: ['.all', '.polyA_adapter_trimmed', '.spatial_beads_GSM5915059_201104_36_matched_bead_locations_new', '.h5ad'].\n",
      "Only considering the two last: ['.spatial_beads_GSM5915059_201104_36_matched_bead_locations_new', '.h5ad'].\n",
      "56374647\n"
     ]
    }
   ],
   "source": [
    "n_reads_spatial_no_mm = sc.read(f'{spacemake_dir_path}projects/slide_seqv2/processed_data/e9_5_mouse/illumina/complete_data/dge/dge.all.polyA_adapter_trimmed.spatial_beads_GSM5915059_201104_36_matched_bead_locations_new.h5ad').obs.n_reads.sum()\n",
    "print(n_reads_spatial_no_mm)"
   ]
  },
  {
   "cell_type": "code",
   "execution_count": 26,
   "metadata": {},
   "outputs": [
    {
     "name": "stdout",
     "output_type": "stream",
     "text": [
      "\n",
      "\n",
      "\n",
      "\n",
      "180471811\n"
     ]
    }
   ],
   "source": [
    "# with intronic\n",
    "n_reads_non_spatial_no_mm = 0\n",
    "with open (f'{spacemake_dir_path}projects/slide_seqv2/processed_data/e9_5_mouse/illumina/complete_data/dge/dge_no_mm_non_spatial_summary_with_intronic.txt', 'r') as f:\n",
    "    for line in f.readlines()[7:]:\n",
    "        if len(line.split()) < 2:\n",
    "            print(line)\n",
    "            continue\n",
    "        n_reads_non_spatial_no_mm += int(line.split()[1])\n",
    "        \n",
    "print(n_reads_non_spatial_no_mm)"
   ]
  },
  {
   "cell_type": "code",
   "execution_count": 27,
   "metadata": {},
   "outputs": [
    {
     "name": "stdout",
     "output_type": "stream",
     "text": [
      "0.3123736980729916\n"
     ]
    }
   ],
   "source": [
    "print(n_reads_spatial_no_mm / n_reads_non_spatial_no_mm)"
   ]
  },
  {
   "cell_type": "markdown",
   "metadata": {},
   "source": [
    "## Visium"
   ]
  },
  {
   "cell_type": "code",
   "execution_count": 30,
   "metadata": {},
   "outputs": [
    {
     "name": "stdout",
     "output_type": "stream",
     "text": [
      "WARNING: Your filename has more than two extensions: ['.all', '.polyA_adapter_trimmed', '.spatial_beads_barcode_locations_corrected', '.h5ad'].\n",
      "Only considering the two last: ['.spatial_beads_barcode_locations_corrected', '.h5ad'].\n",
      "WARNING: Your filename has more than two extensions: ['.all', '.polyA_adapter_trimmed', '.spatial_beads_barcode_locations_corrected', '.h5ad'].\n",
      "Only considering the two last: ['.spatial_beads_barcode_locations_corrected', '.h5ad'].\n",
      "258488946\n"
     ]
    }
   ],
   "source": [
    "n_reads_spatial_no_mm = sc.read(f'{spacemake_dir_path}projects/visium/processed_data/adult_mouse_brain/illumina/complete_data/dge/dge.all.polyA_adapter_trimmed.spatial_beads_barcode_locations_corrected.h5ad').obs.n_reads.sum()\n",
    "print(n_reads_spatial_no_mm)"
   ]
  },
  {
   "cell_type": "code",
   "execution_count": 31,
   "metadata": {},
   "outputs": [
    {
     "name": "stdout",
     "output_type": "stream",
     "text": [
      "\n",
      "\n",
      "\n",
      "\n",
      "269989920\n"
     ]
    }
   ],
   "source": [
    "# with intronic\n",
    "n_reads_non_spatial_no_mm = 0\n",
    "with open (f'{spacemake_dir_path}projects/visium/processed_data/adult_mouse_brain/illumina/complete_data/dge/dge_no_mm_non_spatial_summary_with_intronic.txt', 'r') as f:\n",
    "    for line in f.readlines()[7:]:\n",
    "        if len(line.split()) < 2:\n",
    "            print(line)\n",
    "            continue\n",
    "        n_reads_non_spatial_no_mm += int(line.split()[1])\n",
    "        \n",
    "print(n_reads_non_spatial_no_mm)"
   ]
  },
  {
   "cell_type": "code",
   "execution_count": 32,
   "metadata": {},
   "outputs": [
    {
     "name": "stdout",
     "output_type": "stream",
     "text": [
      "0.9574022096824948\n"
     ]
    }
   ],
   "source": [
    "print(n_reads_spatial_no_mm / n_reads_non_spatial_no_mm)"
   ]
  },
  {
   "cell_type": "markdown",
   "metadata": {},
   "source": [
    "## DBiT-seq"
   ]
  },
  {
   "cell_type": "code",
   "execution_count": 33,
   "metadata": {},
   "outputs": [
    {
     "name": "stdout",
     "output_type": "stream",
     "text": [
      "GSE137986_barcodes\n",
      "\n",
      "\n",
      "\n",
      "\n",
      "11764280\n"
     ]
    }
   ],
   "source": [
    "n_reads_spatial_no_mm = 0\n",
    "puck_barcode_files_summary = pd.read_csv(f'{spacemake_dir_path}projects/dbit_seq/processed_data/e11_25um/illumina/complete_data/puck_barcode_files_summary.csv')\n",
    "for tile in puck_barcode_files_summary.puck_barcode_file_id:\n",
    "    print(tile)\n",
    "    with open(f'{spacemake_dir_path}projects/dbit_seq/processed_data/e11_25um/illumina/complete_data/dge/dge.all.polyA_adapter_trimmed.spatial_beads_{tile}.summary.txt', 'r') as f:\n",
    "        for line in f.readlines()[7:]:\n",
    "            if len(line.split()) < 2:\n",
    "                print(line)\n",
    "                continue\n",
    "            n_reads_spatial_no_mm += int(line.split()[1])\n",
    "    \n",
    "print(n_reads_spatial_no_mm)"
   ]
  },
  {
   "cell_type": "code",
   "execution_count": 18,
   "metadata": {},
   "outputs": [
    {
     "name": "stdout",
     "output_type": "stream",
     "text": [
      "\n",
      "\n",
      "\n",
      "\n",
      "11764280\n"
     ]
    }
   ],
   "source": [
    "# with intronic\n",
    "n_reads_non_spatial_no_mm = 0\n",
    "with open (f'{spacemake_dir_path}projects/dbit_seq/processed_data/e11_25um/illumina/complete_data/dge/dge_no_mm_non_spatial_summary_with_intronic.txt', 'r') as f:\n",
    "    for line in f.readlines()[7:]:\n",
    "        if len(line.split()) < 2:\n",
    "            print(line)\n",
    "            continue\n",
    "        n_reads_non_spatial_no_mm += int(line.split()[1])\n",
    "        \n",
    "print(n_reads_non_spatial_no_mm)"
   ]
  },
  {
   "cell_type": "code",
   "execution_count": 19,
   "metadata": {},
   "outputs": [
    {
     "name": "stdout",
     "output_type": "stream",
     "text": [
      "1.0\n"
     ]
    }
   ],
   "source": [
    "print(n_reads_spatial_no_mm / n_reads_non_spatial_no_mm)"
   ]
  }
 ],
 "metadata": {
  "kernelspec": {
   "display_name": "benchmark_paper",
   "language": "python",
   "name": "python3"
  },
  "language_info": {
   "codemirror_mode": {
    "name": "ipython",
    "version": 3
   },
   "file_extension": ".py",
   "mimetype": "text/x-python",
   "name": "python",
   "nbconvert_exporter": "python",
   "pygments_lexer": "ipython3",
   "version": "3.10.12"
  },
  "orig_nbformat": 4
 },
 "nbformat": 4,
 "nbformat_minor": 2
}
